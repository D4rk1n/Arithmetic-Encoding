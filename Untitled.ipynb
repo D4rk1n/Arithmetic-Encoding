{
 "cells": [
  {
   "cell_type": "code",
   "execution_count": 1,
   "metadata": {},
   "outputs": [],
   "source": [
    "from PIL import Image\n",
    "from numpy import *\n",
    "from collections import Counter , defaultdict"
   ]
  },
  {
   "cell_type": "code",
   "execution_count": 2,
   "metadata": {},
   "outputs": [],
   "source": [
    "def encode(raw_data,dict,block_size):  #raw data as an array or a list \n",
    "    length = len(raw_data)\n",
    "    r = length%block_size\n",
    "    encoded_data = []\n",
    "    if(r != 0): \n",
    "        for p in range (block_size - r): #add padding\n",
    "            raw_data= append(raw_data,raw_data[0])\n",
    "        length = len(raw_data)\n",
    "    for i in range(length//block_size):\n",
    "        c = encode_unit(raw_data , dict , i*block_size , block_size) #encode each block separately\n",
    "        encoded_data.append(c)\n",
    "    return encoded_data"
   ]
  },
  {
   "cell_type": "code",
   "execution_count": 3,
   "metadata": {},
   "outputs": [],
   "source": [
    "def encode_unit(data , dict , offset , block_size):# takes a dict {char : (lower , higher)}\n",
    "    p=1 #probability of the first level \n",
    "    code = 0 \n",
    "    l  = offset + block_size #encode starting with the nth block\n",
    "    for i in range(offset , l):\n",
    "        code += dict[data[i]][0] * p #add the current level and the current probability to the block code\n",
    "        if(i == l -1 ): # take the average of the last lower and upper bounds\n",
    "            code = (2 * code +  (dict[data[i]][1] - dict[data[i]][0])  * p) / 2\n",
    "        p *= (dict[data[i]][1]-dict[data[i]][0]) # next lvl  =  probability of the last level * the probability of the pixel \n",
    "    return code"
   ]
  },
  {
   "cell_type": "code",
   "execution_count": 4,
   "metadata": {},
   "outputs": [],
   "source": [
    "def decode(encoded_data , dict , raw_length , block_size):\n",
    "    decoded_data = []\n",
    "    for c in encoded_data:\n",
    "        decode_unit(decoded_data , c , dict ,block_size)\n",
    "    if(raw_length % block_size):\n",
    "        for i in range (block_size - raw_length % block_size): # remove padding\n",
    "            decoded_data.pop()\n",
    "    return decoded_data"
   ]
  },
  {
   "cell_type": "code",
   "execution_count": 5,
   "metadata": {},
   "outputs": [],
   "source": [
    "def decode_unit(decoded , encoded , decode_dict , length): #takes a sorted list [(char , lower , higher)]\n",
    "    l = 0 \n",
    "    h = 1\n",
    "    for i in range(length):\n",
    "        x = binary_search(encoded,decode_dict,l,h-l,0,len(decode_dict))\n",
    "        if(x is None):\n",
    "            #if the code wasn't found due to float percesion add the last pixel instead\n",
    "            decoded.append(decoded[len(decoded) -1])\n",
    "        else :\n",
    "            l = x[1]\n",
    "            h = x[2]\n",
    "            decoded.append(x[0])\n",
    "    return decoded"
   ]
  },
  {
   "cell_type": "code",
   "execution_count": 6,
   "metadata": {},
   "outputs": [],
   "source": [
    "def binary_search(code,d,lower,p,left,right): # binary search that checks the bounderies\n",
    "    if(left <= right):\n",
    "        i = left + (right - left) // 2\n",
    "        l = lower +p * d[i][1];\n",
    "        h = l + p* (d[i][2]-d[i][1])\n",
    "        if ( code >= l and code < h  ):\n",
    "            res = (d[i][0] , l , h)\n",
    "            return res\n",
    "        elif(code < l):\n",
    "            return binary_search(code,d,lower,p,left,i-1)\n",
    "        elif(code > h):\n",
    "            return binary_search(code,d,lower,p,i+1,right)\n",
    "    else:\n",
    "        raise ValueError('Could Not Decode ' + str(code))"
   ]
  },
  {
   "cell_type": "code",
   "execution_count": 7,
   "metadata": {},
   "outputs": [],
   "source": [
    "img = Image.open(\"mn.png\").convert(\"L\") #read an Image and convert it into a grayscale image "
   ]
  },
  {
   "cell_type": "code",
   "execution_count": 8,
   "metadata": {},
   "outputs": [],
   "source": [
    "arr = array(img).flatten() #flatten the image "
   ]
  },
  {
   "cell_type": "code",
   "execution_count": 9,
   "metadata": {},
   "outputs": [],
   "source": [
    "#build a counter of the probability of each pixel \n",
    "c = Counter(arr) \n",
    "prob_arr = []\n",
    "for p in c:\n",
    "    c[p] = c[p] / len(arr)\n",
    "for i in range(256): #create the 1d array to be saved \n",
    "    prob_arr.append(c[i])\n",
    "c = c.most_common() #sort it as a list of tubles\n",
    "prob_arr = array(prob_arr)\n",
    "save('prob',prob_arr)"
   ]
  },
  {
   "cell_type": "code",
   "execution_count": 10,
   "metadata": {},
   "outputs": [],
   "source": [
    "counter  = []\n",
    "prob_arr = load('prob.npy')\n",
    "for p in enumerate(prob_arr):\n",
    "    if (p[1]):\n",
    "        counter.append((p[0],p[1]))\n",
    "counter.sort(key=lambda x:x[1], reverse=True)"
   ]
  },
  {
   "cell_type": "code",
   "execution_count": 11,
   "metadata": {},
   "outputs": [],
   "source": [
    "d = defaultdict(list)\n",
    "sum = 0 \n",
    "for i in counter:\n",
    "    d[i[0]] = (sum , sum + i[1])\n",
    "    sum += i[1]"
   ]
  },
  {
   "cell_type": "code",
   "execution_count": 12,
   "metadata": {},
   "outputs": [],
   "source": [
    "encoded = encode(arr,d,4)"
   ]
  },
  {
   "cell_type": "code",
   "execution_count": 13,
   "metadata": {},
   "outputs": [],
   "source": [
    "encoded = array(encoded)"
   ]
  },
  {
   "cell_type": "code",
   "execution_count": 14,
   "metadata": {},
   "outputs": [],
   "source": [
    "save('encoded2' , encoded )"
   ]
  },
  {
   "cell_type": "code",
   "execution_count": 15,
   "metadata": {},
   "outputs": [],
   "source": [
    "encoded = load('encoded2.npy')"
   ]
  },
  {
   "cell_type": "code",
   "execution_count": 16,
   "metadata": {},
   "outputs": [],
   "source": [
    "decode_dict = []\n",
    "sum = 0 \n",
    "for i in counter:\n",
    "    decode_dict.append((i[0],sum , sum + i[1]))\n",
    "    sum += i[1]"
   ]
  },
  {
   "cell_type": "code",
   "execution_count": 17,
   "metadata": {},
   "outputs": [],
   "source": [
    "photo = decode(encoded , decode_dict ,len(arr),4)"
   ]
  },
  {
   "cell_type": "code",
   "execution_count": 18,
   "metadata": {},
   "outputs": [],
   "source": [
    "p = reshape(array(photo , dtype = uint8),(-1 , img.width))"
   ]
  },
  {
   "cell_type": "code",
   "execution_count": 19,
   "metadata": {},
   "outputs": [],
   "source": [
    "Image.fromarray(p).save('lol.jpg')"
   ]
  },
  {
   "cell_type": "code",
   "execution_count": null,
   "metadata": {},
   "outputs": [],
   "source": []
  }
 ],
 "metadata": {
  "kernelspec": {
   "display_name": "Python 3",
   "language": "python",
   "name": "python3"
  },
  "language_info": {
   "codemirror_mode": {
    "name": "ipython",
    "version": 3
   },
   "file_extension": ".py",
   "mimetype": "text/x-python",
   "name": "python",
   "nbconvert_exporter": "python",
   "pygments_lexer": "ipython3",
   "version": "3.7.4"
  }
 },
 "nbformat": 4,
 "nbformat_minor": 2
}
