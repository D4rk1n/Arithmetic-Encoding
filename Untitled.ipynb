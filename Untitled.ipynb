{
 "cells": [
  {
   "cell_type": "code",
   "execution_count": 15,
   "metadata": {},
   "outputs": [],
   "source": [
    "from PIL import Image\n",
    "from numpy import *\n",
    "from collections import Counter"
   ]
  },
  {
   "cell_type": "code",
   "execution_count": 185,
   "metadata": {},
   "outputs": [],
   "source": [
    "def binary_search(code,d,lower,p,left,right): # binary search that checks the bounderies\n",
    "    if(left <= right):\n",
    "        i = left + (right - left) // 2\n",
    "        l = lower +p * d[i][1];\n",
    "        h = l + p* (d[i][2]-d[i][1])\n",
    "        if ( code >= l and code < h  ):\n",
    "            return (d[i][0] , l , h)\n",
    "        elif(code < l):\n",
    "            return binary_search(code,d,lower,p,left,i-1)\n",
    "        elif(code > h):\n",
    "            return binary_search(code,d,lower,p,i+1,right)\n",
    "    else:\n",
    "        return -1"
   ]
  },
  {
   "cell_type": "code",
   "execution_count": 190,
   "metadata": {},
   "outputs": [],
   "source": [
    "def encode_unit(data , dict):# takes a dict {char : (lower , higher)}\n",
    "    i = 0 \n",
    "    p=1\n",
    "    code = 0 \n",
    "    l  = len(data)\n",
    "    for c in data:\n",
    "        code += dict[data[i]][0] * p\n",
    "        if(i == l -1 ):\n",
    "            code = (2 * code +  dict[data[i]][1] * p) / 2\n",
    "        p *= (dict[data[i]][1]-dict[data[i]][0])\n",
    "        i+=1\n",
    "    return code"
   ]
  },
  {
   "cell_type": "code",
   "execution_count": 191,
   "metadata": {},
   "outputs": [],
   "source": [
    "def decode_unit(encoded , decode_dict , length): #takes a sorted list [(char , lower , higher)]\n",
    "    decoded = ''\n",
    "    (l , h ) = (0 , 1)\n",
    "    for i in range(length):\n",
    "        (c , l , h) =binary_search(encoded,decode_dict,l,h-l,0,len(decode_dict))\n",
    "        decoded += c\n",
    "    return decoded"
   ]
  },
  {
   "cell_type": "code",
   "execution_count": 16,
   "metadata": {},
   "outputs": [],
   "source": [
    "img = Image.open(\"flo.jpg\").convert(\"L\") #read an Image and convert it into a grayscale image "
   ]
  },
  {
   "cell_type": "code",
   "execution_count": 17,
   "metadata": {},
   "outputs": [],
   "source": [
    "arr = array(img).flatten() #flatten the image "
   ]
  },
  {
   "cell_type": "code",
   "execution_count": 65,
   "metadata": {},
   "outputs": [],
   "source": [
    "msg = ['b','a','d']\n",
    "msg = array(msg)"
   ]
  },
  {
   "cell_type": "code",
   "execution_count": 34,
   "metadata": {},
   "outputs": [],
   "source": [
    "d = {'a':.3,'b':.2,'c':.1,'d':.4}"
   ]
  },
  {
   "cell_type": "code",
   "execution_count": 42,
   "metadata": {},
   "outputs": [],
   "source": [
    "#build a counter of the probability of each pixel I \n",
    "c = Counter(arr) \n",
    "for p in c:\n",
    "    c[p] = c[p] / len(arr)\n",
    "c = c.most_common() #sort it as a list of tubles"
   ]
  },
  {
   "cell_type": "code",
   "execution_count": 112,
   "metadata": {},
   "outputs": [],
   "source": [
    "c = [('d',.4),('a',.3),('b',.2),('c',.1)]"
   ]
  },
  {
   "cell_type": "code",
   "execution_count": 72,
   "metadata": {},
   "outputs": [],
   "source": [
    "d= {}\n",
    "sum = 0 \n",
    "for i in c:\n",
    "    d[i[0]] = (sum , sum + i[1])\n",
    "    sum += i[1]"
   ]
  },
  {
   "cell_type": "code",
   "execution_count": 75,
   "metadata": {},
   "outputs": [
    {
     "data": {
      "text/plain": [
       "0.4"
      ]
     },
     "execution_count": 75,
     "metadata": {},
     "output_type": "execute_result"
    }
   ],
   "source": [
    "d['d'][1]"
   ]
  },
  {
   "cell_type": "code",
   "execution_count": 106,
   "metadata": {},
   "outputs": [],
   "source": [
    "i = 0 \n",
    "p=1\n",
    "code = 0 \n",
    "for c in msg:\n",
    "    code += d[msg[i]][0] * p\n",
    "    if(i == len(msg) -1 ):\n",
    "        code = (2 * code +  d[msg[i]][1] * p) / 2\n",
    "    p *= (d[msg[i]][1]-d[msg[i]][0])\n",
    "    i+=1\n",
    "    "
   ]
  },
  {
   "cell_type": "code",
   "execution_count": 110,
   "metadata": {},
   "outputs": [
    {
     "data": {
      "text/plain": [
       "0.7919999999999999"
      ]
     },
     "execution_count": 110,
     "metadata": {},
     "output_type": "execute_result"
    }
   ],
   "source": [
    "code"
   ]
  },
  {
   "cell_type": "code",
   "execution_count": 116,
   "metadata": {},
   "outputs": [],
   "source": [
    "decode_dict = []\n",
    "sum = 0 \n",
    "for i in c:\n",
    "    decode_dict.append((i[0],sum , sum + i[1]))\n",
    "    sum += i[1]"
   ]
  },
  {
   "cell_type": "code",
   "execution_count": 189,
   "metadata": {},
   "outputs": [
    {
     "data": {
      "text/plain": [
       "0.7919999999999999"
      ]
     },
     "execution_count": 189,
     "metadata": {},
     "output_type": "execute_result"
    }
   ],
   "source": [
    "encode(msg , d)"
   ]
  },
  {
   "cell_type": "code",
   "execution_count": 182,
   "metadata": {},
   "outputs": [
    {
     "data": {
      "text/plain": [
       "'bad'"
      ]
     },
     "execution_count": 182,
     "metadata": {},
     "output_type": "execute_result"
    }
   ],
   "source": [
    "decoded = ''\n",
    "(c , l , h) =binary_search(code,decode_dict,0,1,0,len(decode_dict))\n",
    "decoded += c\n",
    "(c , l , h) =binary_search(code,decode_dict,l,h-l,0,len(decode_dict))\n",
    "decoded += c\n",
    "(c , l , h) =binary_search(code,decode_dict,l,h-l,0,len(decode_dict))\n",
    "decoded += c\n",
    "decoded"
   ]
  },
  {
   "cell_type": "code",
   "execution_count": 154,
   "metadata": {},
   "outputs": [
    {
     "name": "stdout",
     "output_type": "stream",
     "text": [
      "0.78 0.84\n"
     ]
    }
   ],
   "source": [
    "p =.2\n",
    "lower = .7\n",
    "l = lower + p * decode_dict[1][1];\n",
    "h = l + p* (decode_dict[1][2]-decode_dict[1][1])\n",
    "print(l ,h)"
   ]
  },
  {
   "cell_type": "code",
   "execution_count": null,
   "metadata": {},
   "outputs": [],
   "source": []
  }
 ],
 "metadata": {
  "kernelspec": {
   "display_name": "Python 3",
   "language": "python",
   "name": "python3"
  },
  "language_info": {
   "codemirror_mode": {
    "name": "ipython",
    "version": 3
   },
   "file_extension": ".py",
   "mimetype": "text/x-python",
   "name": "python",
   "nbconvert_exporter": "python",
   "pygments_lexer": "ipython3",
   "version": "3.7.4"
  }
 },
 "nbformat": 4,
 "nbformat_minor": 2
}
