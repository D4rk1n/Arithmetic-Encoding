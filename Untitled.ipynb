{
 "cells": [
  {
   "cell_type": "code",
   "execution_count": 1,
   "metadata": {},
   "outputs": [],
   "source": [
    "from PIL import Image\n",
    "from numpy import *\n",
    "from collections import Counter"
   ]
  },
  {
   "cell_type": "code",
   "execution_count": 305,
   "metadata": {},
   "outputs": [],
   "source": [
    "def encode_unit(data , dict , offset , block_size):# takes a dict {char : (lower , higher)}\n",
    "    i = 0 \n",
    "    p=1\n",
    "    code = 0 \n",
    "    l  = offset + block_size\n",
    "    for i in range(offset , l):\n",
    "        code += dict[data[i]][0] * p\n",
    "        if(i == l -1 ):\n",
    "            code = (2 * code +  (dict[data[i]][1] - dict[data[i]][0])  * p) / 2\n",
    "        p *= (dict[data[i]][1]-dict[data[i]][0])\n",
    "    return code"
   ]
  },
  {
   "cell_type": "code",
   "execution_count": 306,
   "metadata": {},
   "outputs": [],
   "source": [
    "def binary_search(code,d,lower,p,left,right): # binary search that checks the bounderies\n",
    "    if(left <= right):\n",
    "        i = left + (right - left) // 2\n",
    "        l = lower +p * d[i][1];\n",
    "        h = l + p* (d[i][2]-d[i][1])\n",
    "        if ( code >= l and code < h  ):\n",
    "            return (d[i][0] , l , h)\n",
    "        elif(code < l):\n",
    "            return binary_search(code,d,lower,p,left,i-1)\n",
    "        elif(code > h):\n",
    "            return binary_search(code,d,lower,p,i+1,right)\n",
    "    else:\n",
    "        return -1"
   ]
  },
  {
   "cell_type": "code",
   "execution_count": 307,
   "metadata": {},
   "outputs": [],
   "source": [
    "def decode_unit(encoded , decode_dict , length): #takes a sorted list [(char , lower , higher)]\n",
    "    decoded = ''\n",
    "    (l , h ) = (0 , 1)\n",
    "    for i in range(length):\n",
    "        (c , l , h) =binary_search(encoded,decode_dict,l,h-l,0,len(decode_dict))\n",
    "        decoded += c\n",
    "    return decoded"
   ]
  },
  {
   "cell_type": "code",
   "execution_count": 328,
   "metadata": {},
   "outputs": [],
   "source": [
    "img = Image.open(\"mod.jpg\").convert(\"L\") #read an Image and convert it into a grayscale image "
   ]
  },
  {
   "cell_type": "code",
   "execution_count": 329,
   "metadata": {},
   "outputs": [],
   "source": [
    "arr = array(img).flatten() #flatten the image "
   ]
  },
  {
   "cell_type": "code",
   "execution_count": 333,
   "metadata": {},
   "outputs": [],
   "source": [
    "#build a counter of the probability of each pixel I \n",
    "c = Counter(arr) \n",
    "prob_arr = []\n",
    "for p in c:\n",
    "    c[p] = c[p] / len(arr)\n",
    "for i in range(256):\n",
    "    prob_arr.append(c[i])\n",
    "c = c.most_common() #sort it as a list of tubles"
   ]
  },
  {
   "cell_type": "code",
   "execution_count": 332,
   "metadata": {},
   "outputs": [],
   "source": [
    "msg = ['d','a','b','b','a']\n",
    "msg = array(msg)"
   ]
  },
  {
   "cell_type": "code",
   "execution_count": 315,
   "metadata": {},
   "outputs": [],
   "source": [
    "d = {'a':.3,'b':.2,'c':.1,'d':.4}\n",
    "c = [('d',.4),('a',.3),('b',.2),('c',.1)]\n",
    "d= {}\n",
    "sum = 0 \n",
    "for i in c:\n",
    "    d[i[0]] = (sum , sum + i[1])\n",
    "    sum += i[1]"
   ]
  },
  {
   "cell_type": "code",
   "execution_count": 316,
   "metadata": {},
   "outputs": [
    {
     "data": {
      "text/plain": [
       "0.26343999999999995"
      ]
     },
     "execution_count": 316,
     "metadata": {},
     "output_type": "execute_result"
    }
   ],
   "source": [
    "ccc = encode_unit(msg,d,0,5)\n",
    "ccc"
   ]
  },
  {
   "cell_type": "code",
   "execution_count": 317,
   "metadata": {},
   "outputs": [],
   "source": [
    "decode_dict = []\n",
    "sum = 0 \n",
    "for i in c:\n",
    "    decode_dict.append((i[0],sum , sum + i[1]))\n",
    "    sum += i[1]"
   ]
  },
  {
   "cell_type": "code",
   "execution_count": 318,
   "metadata": {},
   "outputs": [
    {
     "data": {
      "text/plain": [
       "'dabba'"
      ]
     },
     "execution_count": 318,
     "metadata": {},
     "output_type": "execute_result"
    }
   ],
   "source": [
    "decode_unit(ccc , decode_dict , 5)"
   ]
  },
  {
   "cell_type": "code",
   "execution_count": 319,
   "metadata": {},
   "outputs": [
    {
     "name": "stdout",
     "output_type": "stream",
     "text": [
      "0.78 0.84\n"
     ]
    }
   ],
   "source": [
    "p =.2\n",
    "lower = .7\n",
    "l = lower + p * decode_dict[1][1];\n",
    "h = l + p* (decode_dict[1][2]-decode_dict[1][1])\n",
    "print(l ,h)"
   ]
  },
  {
   "cell_type": "code",
   "execution_count": 320,
   "metadata": {},
   "outputs": [
    {
     "name": "stdout",
     "output_type": "stream",
     "text": [
      "5\n",
      "6\n",
      "7\n",
      "8\n",
      "9\n",
      "10\n",
      "11\n",
      "12\n",
      "13\n",
      "14\n",
      "15\n",
      "16\n",
      "17\n",
      "18\n",
      "19\n",
      "20\n"
     ]
    }
   ],
   "source": [
    "o = 5\n",
    "l = 16\n",
    "for i in range(o , o+l):\n",
    "    print(i)\n",
    "    "
   ]
  },
  {
   "cell_type": "code",
   "execution_count": null,
   "metadata": {},
   "outputs": [],
   "source": []
  }
 ],
 "metadata": {
  "kernelspec": {
   "display_name": "Python 3",
   "language": "python",
   "name": "python3"
  },
  "language_info": {
   "codemirror_mode": {
    "name": "ipython",
    "version": 3
   },
   "file_extension": ".py",
   "mimetype": "text/x-python",
   "name": "python",
   "nbconvert_exporter": "python",
   "pygments_lexer": "ipython3",
   "version": "3.7.4"
  }
 },
 "nbformat": 4,
 "nbformat_minor": 2
}
